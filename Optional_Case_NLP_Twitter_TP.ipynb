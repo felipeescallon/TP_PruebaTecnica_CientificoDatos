{
 "cells": [
  {
   "cell_type": "markdown",
   "metadata": {},
   "source": [
    "#### TELEPERFORMANCE (TP) - Assesment  - Data Scientist                               (By: Andrés Felipe Escallón Portilla, 22-24 / Feb / 2021)\n"
   ]
  },
  {
   "cell_type": "markdown",
   "metadata": {},
   "source": [
    "# Optional Case - NLP for TP´s Tweets \n",
    "###### (@Teleperformance): https://twitter.com/Teleperformance"
   ]
  },
  {
   "cell_type": "markdown",
   "metadata": {},
   "source": [
    "###### Requirement:"
   ]
  },
  {
   "cell_type": "markdown",
   "metadata": {},
   "source": [
    "TP's analytics area is currently working on generating solutions based on unstructured information, for this reason, knowledge in NLP, cloud services and image/audio/video processing is of the utmost importance for the team members.\n",
    "\n",
    "To demonstrate skills in these fields, it is desirable that you generate a use case for one of the following examples:\n",
    "\n",
    "1. For NLP, analysis of tweets to find out what people are saying on this Teleperformance social network.\n",
    "2. For video/image analysis, make use of APIs to detect objects in images or videos.\n",
    "3. For audio analysis, make use of APIs to transcribe the audios to text.\n",
    "\n",
    "After choosing any of the above scenarios, please present an example of using them and explain how this can be relevant to Teleperformance. This delivery is in free format.\n"
   ]
  },
  {
   "cell_type": "markdown",
   "metadata": {},
   "source": [
    "# Case solution:"
   ]
  },
  {
   "cell_type": "code",
   "execution_count": null,
   "metadata": {},
   "outputs": [],
   "source": []
  }
 ],
 "metadata": {
  "kernelspec": {
   "display_name": "Python 3",
   "language": "python",
   "name": "python3"
  },
  "language_info": {
   "codemirror_mode": {
    "name": "ipython",
    "version": 3
   },
   "file_extension": ".py",
   "mimetype": "text/x-python",
   "name": "python",
   "nbconvert_exporter": "python",
   "pygments_lexer": "ipython3",
   "version": "3.6.7"
  }
 },
 "nbformat": 4,
 "nbformat_minor": 2
}
