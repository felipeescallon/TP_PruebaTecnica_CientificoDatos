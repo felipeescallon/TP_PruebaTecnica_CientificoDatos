{
 "cells": [
  {
   "cell_type": "markdown",
   "metadata": {},
   "source": [
    "# Real-Time Twitter Sentiment Analysis"
   ]
  },
  {
   "cell_type": "code",
   "execution_count": null,
   "metadata": {},
   "outputs": [],
   "source": [
    "PEND TO STUDY IT AGAIN!!! (VER EL VIDEO DEL BOOTCAMP PARA PONERLO A FUNCIOINAR)"
   ]
  },
  {
   "cell_type": "code",
   "execution_count": null,
   "metadata": {},
   "outputs": [],
   "source": [
    "Remember to follow the NOTE below"
   ]
  },
  {
   "cell_type": "code",
   "execution_count": 1,
   "metadata": {},
   "outputs": [
    {
     "name": "stdout",
     "output_type": "stream",
     "text": [
      "Collecting tweepy (from -r requirements.txt (line 1))\n",
      "  Downloading https://files.pythonhosted.org/packages/bb/7c/99d51f80f3b77b107ebae2634108717362c059a41384a1810d13e2429a81/tweepy-3.9.0-py2.py3-none-any.whl\n",
      "Collecting psycopg2-binary (from -r requirements.txt (line 2))\n",
      "\u001b[?25l  Downloading https://files.pythonhosted.org/packages/f2/1b/720b36697158113ca1b2221a8e96a470088ccf3770d182214689d1a96a07/psycopg2_binary-2.8.6-cp36-cp36m-manylinux1_x86_64.whl (3.0MB)\n",
      "\u001b[K    100% |████████████████████████████████| 3.0MB 3.2MB/s ta 0:00:011    56% |██████████████████              | 1.7MB 5.6MB/s eta 0:00:01\n",
      "\u001b[?25hRequirement already satisfied: sqlalchemy in /opt/conda/lib/python3.6/site-packages (from -r requirements.txt (line 3)) (1.2.15)\n",
      "Collecting nltk (from -r requirements.txt (line 4))\n",
      "\u001b[?25l  Downloading https://files.pythonhosted.org/packages/92/75/ce35194d8e3022203cca0d2f896dbb88689f9b3fce8e9f9cff942913519d/nltk-3.5.zip (1.4MB)\n",
      "\u001b[K    100% |████████████████████████████████| 1.4MB 3.8MB/s ta 0:00:011\n",
      "\u001b[?25hCollecting textblob (from -r requirements.txt (line 5))\n",
      "\u001b[?25l  Downloading https://files.pythonhosted.org/packages/60/f0/1d9bfcc8ee6b83472ec571406bd0dd51c0e6330ff1a51b2d29861d389e85/textblob-0.15.3-py2.py3-none-any.whl (636kB)\n",
      "\u001b[K    100% |████████████████████████████████| 645kB 11.4MB/s a 0:00:01\n",
      "\u001b[?25hCollecting dash (from -r requirements.txt (line 6))\n",
      "\u001b[?25l  Downloading https://files.pythonhosted.org/packages/1e/ae/88f58a3e35f8802c46876928e6a5f829907c66a70735aaa47d09774a9439/dash-1.16.2.tar.gz (72kB)\n",
      "\u001b[K    100% |████████████████████████████████| 81kB 3.2MB/s ta 0:00:01\n",
      "\u001b[?25hCollecting plotly (from -r requirements.txt (line 7))\n",
      "\u001b[?25l  Downloading https://files.pythonhosted.org/packages/04/20/c2d77eef33dbd40c5e3263a9a8763ffca610a4c3d2b2da21c5601e5fc5d8/plotly-4.10.0-py2.py3-none-any.whl (13.0MB)\n",
      "\u001b[K    100% |████████████████████████████████| 13.0MB 1.2MB/s ta 0:00:011   45% |██████████████▌                 | 5.9MB 10.3MB/s eta 0:00:01\n",
      "\u001b[?25hRequirement already satisfied: requests[socks]>=2.11.1 in /opt/conda/lib/python3.6/site-packages (from tweepy->-r requirements.txt (line 1)) (2.21.0)\n",
      "Requirement already satisfied: six>=1.10.0 in /opt/conda/lib/python3.6/site-packages (from tweepy->-r requirements.txt (line 1)) (1.12.0)\n",
      "Collecting requests-oauthlib>=0.7.0 (from tweepy->-r requirements.txt (line 1))\n",
      "  Downloading https://files.pythonhosted.org/packages/a3/12/b92740d845ab62ea4edf04d2f4164d82532b5a0b03836d4d4e71c6f3d379/requests_oauthlib-1.3.0-py2.py3-none-any.whl\n",
      "Collecting click (from nltk->-r requirements.txt (line 4))\n",
      "\u001b[?25l  Downloading https://files.pythonhosted.org/packages/d2/3d/fa76db83bf75c4f8d338c2fd15c8d33fdd7ad23a9b5e57eb6c5de26b430e/click-7.1.2-py2.py3-none-any.whl (82kB)\n",
      "\u001b[K    100% |████████████████████████████████| 92kB 3.2MB/s ta 0:00:01\n",
      "\u001b[?25hCollecting joblib (from nltk->-r requirements.txt (line 4))\n",
      "\u001b[?25l  Downloading https://files.pythonhosted.org/packages/51/dd/0e015051b4a27ec5a58b02ab774059f3289a94b0906f880a3f9507e74f38/joblib-0.16.0-py3-none-any.whl (300kB)\n",
      "\u001b[K    100% |████████████████████████████████| 307kB 4.0MB/s ta 0:00:01\n",
      "\u001b[?25hCollecting regex (from nltk->-r requirements.txt (line 4))\n",
      "\u001b[?25l  Downloading https://files.pythonhosted.org/packages/3d/e7/352f352776288ed59726cd3739b4db685908f0e92eb9baa9f76809f9cd16/regex-2020.9.27-cp36-cp36m-manylinux1_x86_64.whl (662kB)\n",
      "\u001b[K    100% |████████████████████████████████| 665kB 3.6MB/s ta 0:00:01\n",
      "\u001b[?25hCollecting tqdm (from nltk->-r requirements.txt (line 4))\n",
      "\u001b[?25l  Downloading https://files.pythonhosted.org/packages/0a/0e/ea53a3d6f1eb2cc31162c9ae89555cc26a3986e5559781f0b0df75aea5cf/tqdm-4.50.0-py2.py3-none-any.whl (70kB)\n",
      "\u001b[K    100% |████████████████████████████████| 71kB 3.3MB/s ta 0:00:01\n",
      "\u001b[?25hCollecting Flask>=1.0.2 (from dash->-r requirements.txt (line 6))\n",
      "\u001b[?25l  Downloading https://files.pythonhosted.org/packages/f2/28/2a03252dfb9ebf377f40fba6a7841b47083260bf8bd8e737b0c6952df83f/Flask-1.1.2-py2.py3-none-any.whl (94kB)\n",
      "\u001b[K    100% |████████████████████████████████| 102kB 4.5MB/s a 0:00:01\n",
      "\u001b[?25hCollecting flask-compress (from dash->-r requirements.txt (line 6))\n",
      "  Downloading https://files.pythonhosted.org/packages/a0/96/cd684c1ffe97b513303b5bfd4bbfb4114c5f4a5ea8a737af6fd813273df8/Flask-Compress-1.5.0.tar.gz\n",
      "Collecting dash_renderer==1.8.2 (from dash->-r requirements.txt (line 6))\n",
      "\u001b[?25l  Downloading https://files.pythonhosted.org/packages/c4/f6/bd39b1cb56f7e2156163e8fc344c288c416cff659abf9bd5ed918e4b729b/dash_renderer-1.8.2.tar.gz (1.0MB)\n",
      "\u001b[K    100% |████████████████████████████████| 1.0MB 7.9MB/s ta 0:00:01\n",
      "\u001b[?25hCollecting dash-core-components==1.12.1 (from dash->-r requirements.txt (line 6))\n",
      "\u001b[?25l  Downloading https://files.pythonhosted.org/packages/bb/9e/979263a03963d7ac70229ae9a9a118640dd3ef9b57c5d0c89d3d18f073e7/dash_core_components-1.12.1.tar.gz (3.4MB)\n",
      "\u001b[K    100% |████████████████████████████████| 3.4MB 3.4MB/s ta 0:00:011\n",
      "\u001b[?25hCollecting dash-html-components==1.1.1 (from dash->-r requirements.txt (line 6))\n",
      "\u001b[?25l  Downloading https://files.pythonhosted.org/packages/02/ba/bb9427c62feb25bfbaf243894eeeb4e7c67a92b426ed0575a167100e436e/dash_html_components-1.1.1.tar.gz (188kB)\n",
      "\u001b[K    100% |████████████████████████████████| 194kB 4.1MB/s ta 0:00:01\n",
      "\u001b[?25hCollecting dash-table==4.10.1 (from dash->-r requirements.txt (line 6))\n",
      "\u001b[?25l  Downloading https://files.pythonhosted.org/packages/a9/85/2408091d71af9af8c5ce6855730ff2e3e443ba8a667864e22f0881f4d785/dash_table-4.10.1.tar.gz (1.8MB)\n",
      "\u001b[K    100% |████████████████████████████████| 1.8MB 3.4MB/s ta 0:00:01\n",
      "\u001b[?25hCollecting future (from dash->-r requirements.txt (line 6))\n",
      "\u001b[?25l  Downloading https://files.pythonhosted.org/packages/45/0b/38b06fd9b92dc2b68d58b75f900e97884c45bedd2ff83203d933cf5851c9/future-0.18.2.tar.gz (829kB)\n",
      "\u001b[K    100% |████████████████████████████████| 829kB 4.3MB/s ta 0:00:01\n",
      "\u001b[?25hCollecting retrying>=1.3.3 (from plotly->-r requirements.txt (line 7))\n",
      "  Downloading https://files.pythonhosted.org/packages/44/ef/beae4b4ef80902f22e3af073397f079c96969c69b2c7d52a57ea9ae61c9d/retrying-1.3.3.tar.gz\n",
      "Requirement already satisfied: idna<2.9,>=2.5 in /opt/conda/lib/python3.6/site-packages (from requests[socks]>=2.11.1->tweepy->-r requirements.txt (line 1)) (2.8)\n",
      "Requirement already satisfied: chardet<3.1.0,>=3.0.2 in /opt/conda/lib/python3.6/site-packages (from requests[socks]>=2.11.1->tweepy->-r requirements.txt (line 1)) (3.0.4)\n",
      "Requirement already satisfied: urllib3<1.25,>=1.21.1 in /opt/conda/lib/python3.6/site-packages (from requests[socks]>=2.11.1->tweepy->-r requirements.txt (line 1)) (1.24.1)\n",
      "Requirement already satisfied: certifi>=2017.4.17 in /opt/conda/lib/python3.6/site-packages (from requests[socks]>=2.11.1->tweepy->-r requirements.txt (line 1)) (2018.11.29)\n",
      "Requirement already satisfied: PySocks!=1.5.7,>=1.5.6; extra == \"socks\" in /opt/conda/lib/python3.6/site-packages (from requests[socks]>=2.11.1->tweepy->-r requirements.txt (line 1)) (1.6.8)\n",
      "Collecting oauthlib>=3.0.0 (from requests-oauthlib>=0.7.0->tweepy->-r requirements.txt (line 1))\n",
      "\u001b[?25l  Downloading https://files.pythonhosted.org/packages/05/57/ce2e7a8fa7c0afb54a0581b14a65b56e62b5759dbc98e80627142b8a3704/oauthlib-3.1.0-py2.py3-none-any.whl (147kB)\n",
      "\u001b[K    100% |████████████████████████████████| 153kB 5.5MB/s ta 0:00:01\n",
      "\u001b[?25hCollecting Jinja2>=2.10.1 (from Flask>=1.0.2->dash->-r requirements.txt (line 6))\n",
      "\u001b[?25l  Downloading https://files.pythonhosted.org/packages/30/9e/f663a2aa66a09d838042ae1a2c5659828bb9b41ea3a6efa20a20fd92b121/Jinja2-2.11.2-py2.py3-none-any.whl (125kB)\n",
      "\u001b[K    100% |████████████████████████████████| 133kB 3.5MB/s ta 0:00:01\n",
      "\u001b[?25hCollecting Werkzeug>=0.15 (from Flask>=1.0.2->dash->-r requirements.txt (line 6))\n",
      "\u001b[?25l  Downloading https://files.pythonhosted.org/packages/cc/94/5f7079a0e00bd6863ef8f1da638721e9da21e5bacee597595b318f71d62e/Werkzeug-1.0.1-py2.py3-none-any.whl (298kB)\n",
      "\u001b[K    100% |████████████████████████████████| 307kB 4.0MB/s ta 0:00:01\n",
      "\u001b[?25hCollecting itsdangerous>=0.24 (from Flask>=1.0.2->dash->-r requirements.txt (line 6))\n",
      "  Downloading https://files.pythonhosted.org/packages/76/ae/44b03b253d6fade317f32c24d100b3b35c2239807046a4c953c7b89fa49e/itsdangerous-1.1.0-py2.py3-none-any.whl\n",
      "Collecting brotli (from flask-compress->dash->-r requirements.txt (line 6))\n"
     ]
    },
    {
     "name": "stdout",
     "output_type": "stream",
     "text": [
      "\u001b[?25l  Downloading https://files.pythonhosted.org/packages/b4/d3/7c98f05b7b9103e2f3a112ba42f269c798155b3e5404fb80bb8f823aaebe/Brotli-1.0.9-cp36-cp36m-manylinux1_x86_64.whl (357kB)\n",
      "\u001b[K    100% |████████████████████████████████| 358kB 3.1MB/s ta 0:00:01\n",
      "\u001b[?25hRequirement already satisfied: MarkupSafe>=0.23 in /opt/conda/lib/python3.6/site-packages (from Jinja2>=2.10.1->Flask>=1.0.2->dash->-r requirements.txt (line 6)) (1.1.0)\n",
      "Building wheels for collected packages: nltk, dash, flask-compress, dash-renderer, dash-core-components, dash-html-components, dash-table, future, retrying\n",
      "  Running setup.py bdist_wheel for nltk ... \u001b[?25ldone\n",
      "\u001b[?25h  Stored in directory: /home/jovyan/.cache/pip/wheels/ae/8c/3f/b1fe0ba04555b08b57ab52ab7f86023639a526d8bc8d384306\n",
      "  Running setup.py bdist_wheel for dash ... \u001b[?25ldone\n",
      "\u001b[?25h  Stored in directory: /home/jovyan/.cache/pip/wheels/26/de/29/8280c0d15ce1205fd9c6e2819e63ee6125b59dbe75a9a68968\n",
      "  Running setup.py bdist_wheel for flask-compress ... \u001b[?25ldone\n",
      "\u001b[?25h  Stored in directory: /home/jovyan/.cache/pip/wheels/f7/e9/e4/5afc286be7c87461375e33152558415dfeb0c8f5af3b50e742\n",
      "  Running setup.py bdist_wheel for dash-renderer ... \u001b[?25ldone\n",
      "\u001b[?25h  Stored in directory: /home/jovyan/.cache/pip/wheels/c8/8f/0f/9cf71e7362b302350e10fcc9ca7f0377b84a6ea14445c2d6aa\n",
      "  Running setup.py bdist_wheel for dash-core-components ... \u001b[?25ldone\n",
      "\u001b[?25h  Stored in directory: /home/jovyan/.cache/pip/wheels/29/11/a0/0cf8183b6f7df4716bec25b0e089043cd161bb58accc6633a6\n",
      "  Running setup.py bdist_wheel for dash-html-components ... \u001b[?25ldone\n",
      "\u001b[?25h  Stored in directory: /home/jovyan/.cache/pip/wheels/8d/01/46/78e4de185a8a4a2da8ba31da16c52170f036d4cebeeb6e07a2\n",
      "  Running setup.py bdist_wheel for dash-table ... \u001b[?25ldone\n",
      "\u001b[?25h  Stored in directory: /home/jovyan/.cache/pip/wheels/3d/c2/fd/50a7ea0b9aef63cf3bf3c5fb22799b8ba9a97ea8f9b14b7124\n",
      "  Running setup.py bdist_wheel for future ... \u001b[?25ldone\n",
      "\u001b[?25h  Stored in directory: /home/jovyan/.cache/pip/wheels/8b/99/a0/81daf51dcd359a9377b110a8a886b3895921802d2fc1b2397e\n",
      "  Running setup.py bdist_wheel for retrying ... \u001b[?25ldone\n",
      "\u001b[?25h  Stored in directory: /home/jovyan/.cache/pip/wheels/d7/a9/33/acc7b709e2a35caa7d4cae442f6fe6fbf2c43f80823d46460c\n",
      "Successfully built nltk dash flask-compress dash-renderer dash-core-components dash-html-components dash-table future retrying\n",
      "Installing collected packages: oauthlib, requests-oauthlib, tweepy, psycopg2-binary, click, joblib, regex, tqdm, nltk, textblob, Jinja2, Werkzeug, itsdangerous, Flask, brotli, flask-compress, retrying, plotly, dash-renderer, dash-core-components, dash-html-components, dash-table, future, dash\n",
      "  Found existing installation: Jinja2 2.10\n",
      "    Uninstalling Jinja2-2.10:\n",
      "      Successfully uninstalled Jinja2-2.10\n",
      "Successfully installed Flask-1.1.2 Jinja2-2.11.2 Werkzeug-1.0.1 brotli-1.0.9 click-7.1.2 dash-1.16.2 dash-core-components-1.12.1 dash-html-components-1.1.1 dash-renderer-1.8.2 dash-table-4.10.1 flask-compress-1.5.0 future-0.18.2 itsdangerous-1.1.0 joblib-0.16.0 nltk-3.5 oauthlib-3.1.0 plotly-4.10.0 psycopg2-binary-2.8.6 regex-2020.9.27 requests-oauthlib-1.3.0 retrying-1.3.3 textblob-0.15.3 tqdm-4.50.0 tweepy-3.9.0\n"
     ]
    }
   ],
   "source": [
    "!pip install -r requirements.txt"
   ]
  },
  {
   "cell_type": "markdown",
   "metadata": {},
   "source": [
    "## Before we begin\n",
    "\n",
    "In this case, we will put together an application that takes in Twitter tweets and analyzes the sentiment of those tweets in real-time. The communication among all the different components will look something like this:\n",
    "\n",
    "![](Architecture.png)\n",
    "\n",
    "**NOTE:** This material was built following [this tutorial made by Chulong Li](https://towardsdatascience.com/real-time-twitter-sentiment-analysis-for-brand-improvement-and-topic-tracking-chapter-1-3-e02f7652d8ff), with some modifications.\n",
    "\n",
    "In order to go through this, you will need to:\n",
    "\n",
    "- Apply for a Twitter developer account [here](https://developer.twitter.com/en/apply-for-access)\n",
    "- Create an app to generate two API keys and two access tokens [here](https://developer.twitter.com/en/apps)\n",
    "- Execute `pip install -r requirements.txt`"
   ]
  },
  {
   "cell_type": "markdown",
   "metadata": {},
   "source": [
    "## Application setup\n",
    "\n",
    "Before we can build this application, we need to do some setup:\n",
    "\n",
    "1. Create a file called `credentials.py`:\n",
    "\n",
    "```python\n",
    "API_KEY = \"XXXXXXXXXXXXXX\"\n",
    "API_SECRET_KEY = \"XXXXXXXXXXXXXXXXXXXXXXXXXXXXXXXXXXXXXXXXXXXXXXXXXX\"\n",
    "\n",
    "ACCESS_TOKEN = \"XXXXXXXXXXXXXXXXXXXXXXXXXXXXXXXXXXXXXXXXXXXXXXXX\"\n",
    "ACCESS_TOKEN_SECRET = \"XXXXXXXXXXXXXXXXXXXXXXXXXXXXXXXXXXXXXXXXXXX\"\n",
    "```\n",
    "\n",
    "2. Create a database in RDS Postgres named `twitterdb`.\n",
    "3. Create a file called `settings.py`:\n",
    "\n",
    "```python\n",
    "TRACK_WORDS = ['covid']\n",
    "TABLE_NAME = \"twitter\"\n",
    "TABLE_ATTRIBUTES = \"id_str VARCHAR(255), created_at timestamp, text VARCHAR(255), \\\n",
    "            polarity INT, subjectivity INT, user_created_at VARCHAR(255), user_location VARCHAR(255), \\\n",
    "            user_description VARCHAR(255), user_followers_count INT, longitude double precision, latitude double precision, \\\n",
    "            retweet_count INT, favorite_count INT\"\n",
    "```"
   ]
  },
  {
   "cell_type": "markdown",
   "metadata": {},
   "source": [
    "***ESTA ES LA FORMA COMO SE DEBE ENTREGAR UN PROYECTO PUBLICADO EN UN REPOSITORIO COMO GIT HUB:***"
   ]
  },
  {
   "cell_type": "markdown",
   "metadata": {},
   "source": [
    "## Application\n",
    "\n",
    "The application itself consists of the following files:\n",
    "\n",
    "- [Tweepy](http://docs.tweepy.org/en/v3.4.0/streaming_how_to.html#streaming-with-tweepyhttp://docs.tweepy.org/en/v3.4.0/streaming_how_to.html#streaming-with-tweepy) is a Python library to listen to streaming Twitter data\n",
    "- `credentials.py`: Tokens to connect to Twitter's API\n",
    "- `settings.py`: Includes information about topics to track, as well as the name and columns of database tables\n",
    "- `TwStreamListener.py`: Stream class to extract tweets\n",
    "- `main.py`: Main program to execute ETL to extract tweets and save to the database\n",
    "- `app.py`: Dash app to see the results of the analysis\n",
    "\n",
    "We will now walk through how to tie everything together live."
   ]
  },
  {
   "cell_type": "code",
   "execution_count": null,
   "metadata": {},
   "outputs": [],
   "source": []
  }
 ],
 "metadata": {
  "kernelspec": {
   "display_name": "Python 3",
   "language": "python",
   "name": "python3"
  },
  "language_info": {
   "codemirror_mode": {
    "name": "ipython",
    "version": 3
   },
   "file_extension": ".py",
   "mimetype": "text/x-python",
   "name": "python",
   "nbconvert_exporter": "python",
   "pygments_lexer": "ipython3",
   "version": "3.6.7"
  }
 },
 "nbformat": 4,
 "nbformat_minor": 2
}
